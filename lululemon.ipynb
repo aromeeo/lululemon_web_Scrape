{
 "cells": [
  {
   "cell_type": "code",
   "execution_count": 200,
   "metadata": {},
   "outputs": [
    {
     "name": "stdout",
     "output_type": "stream",
     "text": [
      "[nltk_data] Downloading package stopwords to\n",
      "[nltk_data]     /Users/alexromero/nltk_data...\n",
      "[nltk_data]   Package stopwords is already up-to-date!\n",
      "[nltk_data] Downloading package wordnet to\n",
      "[nltk_data]     /Users/alexromero/nltk_data...\n",
      "[nltk_data]   Package wordnet is already up-to-date!\n"
     ]
    }
   ],
   "source": [
    "import pandas as pd\n",
    "import re"
   ]
  },
  {
   "cell_type": "code",
   "execution_count": 201,
   "metadata": {
    "collapsed": true
   },
   "outputs": [],
   "source": [
    "df = pd.read_csv('/Users/alexromero/Bootcamp/lululemonSelenium/men/lululemon.csv')\n",
    "pd.options.display.max_colwidth = 100"
   ]
  },
  {
   "cell_type": "code",
   "execution_count": 202,
   "metadata": {},
   "outputs": [
    {
     "data": {
      "text/plain": [
       "'This roller is amazing. I wasn’t sure if I liked the color schemes but the function out performed its colors. Definitely a must have. Lulu, would you offer more colors for this roller?'"
      ]
     },
     "execution_count": 202,
     "metadata": {},
     "output_type": "execute_result"
    }
   ],
   "source": [
    "df.text[0]"
   ]
  },
  {
   "cell_type": "code",
   "execution_count": 203,
   "metadata": {},
   "outputs": [
    {
     "name": "stdout",
     "output_type": "stream",
     "text": [
      "(1815, 19)\n"
     ]
    }
   ],
   "source": [
    "print(df.shape)\n",
    "# There are 1622 product reviews\n",
    "\n",
    "## Pre process data\n",
    "df['date_Published'] = pd.to_datetime(df['datePublished'], infer_datetime_format=True)\n",
    "df['responseDate'] = pd.to_datetime(df['responseDate'], infer_datetime_format=True)\n",
    "\n",
    "df['product'] = [re.sub('\\n', ' ', product) for product in df['product']]\n",
    "\n",
    "# Strip ratings \n",
    "new_user_rating = [string.replace(' out of 5', '') for string in df['user_rating']]\n",
    "new_average_rating = [string.replace(' out of 5', '') for string in df['average_rating']]\n",
    "\n",
    "df['user_rating'] = new_user_rating\n",
    "df['average_rating'] = new_average_rating\n"
   ]
  },
  {
   "cell_type": "code",
   "execution_count": 204,
   "metadata": {},
   "outputs": [
    {
     "data": {
      "text/plain": [
       "product                   object\n",
       "list_price                 int64\n",
       "average_rating            object\n",
       "user_rating               object\n",
       "user                      object\n",
       "location                  object\n",
       "athleticType              object\n",
       "ageRange                  object\n",
       "bodyType                  object\n",
       "like                      object\n",
       "not_like                  object\n",
       "fit                       object\n",
       "title                     object\n",
       "datePublished             object\n",
       "text                      object\n",
       "responseDate      datetime64[ns]\n",
       "response                  object\n",
       "helpfulYes                 int64\n",
       "helpfulNo                  int64\n",
       "date_Published    datetime64[ns]\n",
       "dtype: object"
      ]
     },
     "execution_count": 204,
     "metadata": {},
     "output_type": "execute_result"
    }
   ],
   "source": [
    "df.dtypes"
   ]
  },
  {
   "cell_type": "code",
   "execution_count": 295,
   "metadata": {
    "collapsed": true
   },
   "outputs": [],
   "source": [
    "df['user_rating'] = df['user_rating'].astype(float)\n",
    "df['average_rating'] = df['average_rating'].astype(float)"
   ]
  },
  {
   "cell_type": "markdown",
   "metadata": {},
   "source": [
    "## Categorize products by category and category type detail"
   ]
  },
  {
   "cell_type": "code",
   "execution_count": 296,
   "metadata": {
    "collapsed": true
   },
   "outputs": [],
   "source": [
    "df['gender'] = 'male'\n",
    "df['category'] = ''\n",
    "df['categoryType'] = ''"
   ]
  },
  {
   "cell_type": "code",
   "execution_count": 297,
   "metadata": {
    "scrolled": true
   },
   "outputs": [],
   "source": [
    "short_sleeves = df[df['product'].str.contains('Short Sleeve')]\n",
    "short_sleeves['category'] = 'top'\n",
    "short_sleeves['categoryType'] = 'short sleeve'\n",
    "df[df['product'].str.contains('Short Sleeve')] = short_sleeves"
   ]
  },
  {
   "cell_type": "code",
   "execution_count": 298,
   "metadata": {},
   "outputs": [],
   "source": [
    "roller = df[df['product'] == 'Double Roller']\n",
    "roller['category'] = 'accessory'\n",
    "roller['categoryType'] = 'yoga mats/props'\n",
    "df[df['product'] == 'Double Roller'] = roller"
   ]
  },
  {
   "cell_type": "code",
   "execution_count": 299,
   "metadata": {},
   "outputs": [],
   "source": [
    "shorts = df[df['product'].str.contains('Short') & ~df['product'].str.contains('Jogger') & ~df['product'].str.contains('Sleeve')]\n",
    "shorts['category'] = 'bottom'\n",
    "shorts['categoryType'] = 'shorts'\n",
    "df[df['product'].str.contains('Short') & \n",
    "   ~df['product'].str.contains('Jogger') & \n",
    "   ~df['product'].str.contains('Sleeve')] = shorts"
   ]
  },
  {
   "cell_type": "code",
   "execution_count": 300,
   "metadata": {},
   "outputs": [],
   "source": [
    "long_sleeve = df[df['product'].str.contains('Long Sleeve') | df['product'].str.contains('Henley') | df['product'].str.contains('Hoodie') | df['product'].str.contains('Zip')]\n",
    "long_sleeve['category'] = 'top'\n",
    "long_sleeve['categoryType'] = 'long sleeve'\n",
    "df[df['product'].str.contains('Long Sleeve') |\n",
    "                 df['product'].str.contains('Henley') |\n",
    "                 df['product'].str.contains('Hoodie') |\n",
    "                 df['product'].str.contains('Zip')] = long_sleeve"
   ]
  },
  {
   "cell_type": "code",
   "execution_count": 301,
   "metadata": {},
   "outputs": [],
   "source": [
    "tanks = df[df['product'].str.contains('Tank')]\n",
    "tanks['category'] = 'top'\n",
    "tanks['categoryType'] = 'tank'\n",
    "df[df['product'].str.contains('Tank')] = tanks"
   ]
  },
  {
   "cell_type": "code",
   "execution_count": 302,
   "metadata": {},
   "outputs": [],
   "source": [
    "tights = df[df['product'].str.contains('Tight')]\n",
    "tights['category'] = 'bottom'\n",
    "tights['categoryType'] = 'tights'\n",
    "df[df['product'].str.contains('Tight')] = tights"
   ]
  },
  {
   "cell_type": "code",
   "execution_count": 303,
   "metadata": {},
   "outputs": [],
   "source": [
    "backpacks = df[df['product'].str.contains('Backpack')] \n",
    "backpacks['category'] = 'accessory'\n",
    "backpacks['categoryType'] = 'bag'\n",
    "df[df['product'].str.contains('Backpack')] = backpacks"
   ]
  },
  {
   "cell_type": "code",
   "execution_count": 304,
   "metadata": {},
   "outputs": [],
   "source": [
    "hats = df[df['product'].str.contains('Hat') | df['product'].str.contains('Headband')]\n",
    "hats['category'] = 'accessory'\n",
    "hats['categoryType'] = 'hat'\n",
    "df[df['product'].str.contains('Hat') | df['product'].str.contains('Headband')] = hats"
   ]
  },
  {
   "cell_type": "code",
   "execution_count": 305,
   "metadata": {},
   "outputs": [],
   "source": [
    "joggers = df[df['product'].str.contains('Jogger')]\n",
    "joggers['category'] = 'bottom'\n",
    "joggers['categoryType'] = 'jogger'\n",
    "df[df['product'].str.contains('Jogger')] = joggers"
   ]
  },
  {
   "cell_type": "code",
   "execution_count": 306,
   "metadata": {},
   "outputs": [],
   "source": [
    "jackets = df[df['product'].str.contains('Jacket') | df['product'].str.contains('Vest')]\n",
    "jackets['category'] = 'top'\n",
    "jackets['categoryType'] = 'jackets + coats'\n",
    "df[df['product'].str.contains('Jacket') | df['product'].str.contains('Vest')] = jackets"
   ]
  },
  {
   "cell_type": "code",
   "execution_count": 307,
   "metadata": {},
   "outputs": [],
   "source": [
    "socks_bottles = df[df['product'].str.contains('Sock') | df['product'].str.contains('Bottle')]\n",
    "socks_bottles['category'] = 'accessory'\n",
    "socks = socks_bottles[socks_bottles['product'].str.contains('Sock')]\n",
    "socks['categoryType'] = 'socks + underwear'\n",
    "socks_bottles[socks_bottles['product'].str.contains('Sock')] = socks\n",
    "bottles = socks_bottles[socks_bottles['product'].str.contains('Bottle')]\n",
    "bottles['categoryType'] = 'water bottle'\n",
    "socks_bottles[socks_bottles['product'].str.contains('Bottle')] = bottles\n",
    "df[df['product'].str.contains('Sock') | df['product'].str.contains('Bottle')] = socks_bottles"
   ]
  },
  {
   "cell_type": "code",
   "execution_count": 308,
   "metadata": {},
   "outputs": [],
   "source": [
    "kit = df[df['product'].str.contains('Kit')]\n",
    "kit['category'] = 'top'\n",
    "kit['categoryType'] = 'short sleeve'\n",
    "df[df['product'].str.contains('Kit')] = kit"
   ]
  },
  {
   "cell_type": "code",
   "execution_count": 309,
   "metadata": {
    "scrolled": true
   },
   "outputs": [
    {
     "data": {
      "text/html": [
       "<div>\n",
       "<style>\n",
       "    .dataframe thead tr:only-child th {\n",
       "        text-align: right;\n",
       "    }\n",
       "\n",
       "    .dataframe thead th {\n",
       "        text-align: left;\n",
       "    }\n",
       "\n",
       "    .dataframe tbody tr th {\n",
       "        vertical-align: top;\n",
       "    }\n",
       "</style>\n",
       "<table border=\"1\" class=\"dataframe\">\n",
       "  <thead>\n",
       "    <tr style=\"text-align: right;\">\n",
       "      <th></th>\n",
       "      <th>product</th>\n",
       "      <th>list_price</th>\n",
       "      <th>average_rating</th>\n",
       "      <th>user_rating</th>\n",
       "      <th>user</th>\n",
       "      <th>location</th>\n",
       "      <th>athleticType</th>\n",
       "      <th>ageRange</th>\n",
       "      <th>bodyType</th>\n",
       "      <th>like</th>\n",
       "      <th>...</th>\n",
       "      <th>text</th>\n",
       "      <th>responseDate</th>\n",
       "      <th>response</th>\n",
       "      <th>helpfulYes</th>\n",
       "      <th>helpfulNo</th>\n",
       "      <th>date_Published</th>\n",
       "      <th>gender</th>\n",
       "      <th>category</th>\n",
       "      <th>categoryType</th>\n",
       "      <th>text length</th>\n",
       "    </tr>\n",
       "  </thead>\n",
       "  <tbody>\n",
       "  </tbody>\n",
       "</table>\n",
       "<p>0 rows × 24 columns</p>\n",
       "</div>"
      ],
      "text/plain": [
       "Empty DataFrame\n",
       "Columns: [product, list_price, average_rating, user_rating, user, location, athleticType, ageRange, bodyType, like, not_like, fit, title, datePublished, text, responseDate, response, helpfulYes, helpfulNo, date_Published, gender, category, categoryType, text length]\n",
       "Index: []\n",
       "\n",
       "[0 rows x 24 columns]"
      ]
     },
     "execution_count": 309,
     "metadata": {},
     "output_type": "execute_result"
    }
   ],
   "source": [
    "df[df['category'] == '']"
   ]
  },
  {
   "cell_type": "code",
   "execution_count": 310,
   "metadata": {
    "scrolled": true
   },
   "outputs": [
    {
     "data": {
      "text/html": [
       "<div>\n",
       "<style>\n",
       "    .dataframe thead tr:only-child th {\n",
       "        text-align: right;\n",
       "    }\n",
       "\n",
       "    .dataframe thead th {\n",
       "        text-align: left;\n",
       "    }\n",
       "\n",
       "    .dataframe tbody tr th {\n",
       "        vertical-align: top;\n",
       "    }\n",
       "</style>\n",
       "<table border=\"1\" class=\"dataframe\">\n",
       "  <thead>\n",
       "    <tr style=\"text-align: right;\">\n",
       "      <th></th>\n",
       "      <th>product</th>\n",
       "      <th>list_price</th>\n",
       "      <th>average_rating</th>\n",
       "      <th>user_rating</th>\n",
       "      <th>user</th>\n",
       "      <th>location</th>\n",
       "      <th>athleticType</th>\n",
       "      <th>ageRange</th>\n",
       "      <th>bodyType</th>\n",
       "      <th>like</th>\n",
       "      <th>...</th>\n",
       "      <th>text</th>\n",
       "      <th>responseDate</th>\n",
       "      <th>response</th>\n",
       "      <th>helpfulYes</th>\n",
       "      <th>helpfulNo</th>\n",
       "      <th>date_Published</th>\n",
       "      <th>gender</th>\n",
       "      <th>category</th>\n",
       "      <th>categoryType</th>\n",
       "      <th>text length</th>\n",
       "    </tr>\n",
       "  </thead>\n",
       "  <tbody>\n",
       "    <tr>\n",
       "      <th>0</th>\n",
       "      <td>Double Roller</td>\n",
       "      <td>58</td>\n",
       "      <td>4.8</td>\n",
       "      <td>5.0</td>\n",
       "      <td>MESMERIZEME96789</td>\n",
       "      <td>MILILANI, HI, USA</td>\n",
       "      <td>RUNNER</td>\n",
       "      <td>25-34</td>\n",
       "      <td>ATHLETIC</td>\n",
       "      <td>functional</td>\n",
       "      <td>...</td>\n",
       "      <td>This roller is amazing. I wasn’t sure if I liked the color schemes but the function out performe...</td>\n",
       "      <td>NaT</td>\n",
       "      <td>NaN</td>\n",
       "      <td>1</td>\n",
       "      <td>0</td>\n",
       "      <td>2018-07-26</td>\n",
       "      <td>male</td>\n",
       "      <td>accessory</td>\n",
       "      <td>yoga mats/props</td>\n",
       "      <td>184</td>\n",
       "    </tr>\n",
       "    <tr>\n",
       "      <th>1</th>\n",
       "      <td>Double Roller</td>\n",
       "      <td>58</td>\n",
       "      <td>4.8</td>\n",
       "      <td>5.0</td>\n",
       "      <td>NAZANIN</td>\n",
       "      <td>BETHESDA, MD</td>\n",
       "      <td>SWEATY GENERALIST</td>\n",
       "      <td>25-34</td>\n",
       "      <td>ATHLETIC</td>\n",
       "      <td>color, design, versatile, effective, size</td>\n",
       "      <td>...</td>\n",
       "      <td>It hurts like a you know what but the results are what I need after training. Props to lulu for ...</td>\n",
       "      <td>NaT</td>\n",
       "      <td>NaN</td>\n",
       "      <td>1</td>\n",
       "      <td>0</td>\n",
       "      <td>2018-05-09</td>\n",
       "      <td>male</td>\n",
       "      <td>accessory</td>\n",
       "      <td>yoga mats/props</td>\n",
       "      <td>510</td>\n",
       "    </tr>\n",
       "    <tr>\n",
       "      <th>2</th>\n",
       "      <td>Double Roller</td>\n",
       "      <td>58</td>\n",
       "      <td>4.8</td>\n",
       "      <td>5.0</td>\n",
       "      <td>JORDANNE00</td>\n",
       "      <td>RALEIGH, NC</td>\n",
       "      <td>SWEATY GENERALIST</td>\n",
       "      <td>25-34</td>\n",
       "      <td>ATHLETIC</td>\n",
       "      <td>grooves, double roller feature</td>\n",
       "      <td>...</td>\n",
       "      <td>I have a love/hate relationship with this thing! I love it because it does it's job and helps ro...</td>\n",
       "      <td>NaT</td>\n",
       "      <td>NaN</td>\n",
       "      <td>1</td>\n",
       "      <td>0</td>\n",
       "      <td>2018-05-01</td>\n",
       "      <td>male</td>\n",
       "      <td>accessory</td>\n",
       "      <td>yoga mats/props</td>\n",
       "      <td>604</td>\n",
       "    </tr>\n",
       "    <tr>\n",
       "      <th>3</th>\n",
       "      <td>Double Roller</td>\n",
       "      <td>58</td>\n",
       "      <td>4.8</td>\n",
       "      <td>4.0</td>\n",
       "      <td>THEGIRLNEXTDOOR</td>\n",
       "      <td>SEATTLE, WA, USA</td>\n",
       "      <td>SWEATY GENERALIST</td>\n",
       "      <td>18-24</td>\n",
       "      <td>ATHLETIC</td>\n",
       "      <td>versatility, design, color</td>\n",
       "      <td>...</td>\n",
       "      <td>This roller is a fairly decent one. Its a sweet deal, you get two for the price of one! The oute...</td>\n",
       "      <td>NaT</td>\n",
       "      <td>NaN</td>\n",
       "      <td>1</td>\n",
       "      <td>0</td>\n",
       "      <td>2018-04-29</td>\n",
       "      <td>male</td>\n",
       "      <td>accessory</td>\n",
       "      <td>yoga mats/props</td>\n",
       "      <td>412</td>\n",
       "    </tr>\n",
       "    <tr>\n",
       "      <th>4</th>\n",
       "      <td>Metal Vent Tech Short Sleeve</td>\n",
       "      <td>68</td>\n",
       "      <td>2.7</td>\n",
       "      <td>5.0</td>\n",
       "      <td>YOGIHOLIC</td>\n",
       "      <td>DALLAS, TX, USA</td>\n",
       "      <td>SWEATY GENERALIST</td>\n",
       "      <td>25-34</td>\n",
       "      <td>ATHLETIC</td>\n",
       "      <td>NaN</td>\n",
       "      <td>...</td>\n",
       "      <td>I was pretty stoked having my first lululemon shirt, and this shirt has been the most durable du...</td>\n",
       "      <td>NaT</td>\n",
       "      <td>NaN</td>\n",
       "      <td>0</td>\n",
       "      <td>0</td>\n",
       "      <td>2018-08-05</td>\n",
       "      <td>male</td>\n",
       "      <td>top</td>\n",
       "      <td>short sleeve</td>\n",
       "      <td>253</td>\n",
       "    </tr>\n",
       "  </tbody>\n",
       "</table>\n",
       "<p>5 rows × 24 columns</p>\n",
       "</div>"
      ],
      "text/plain": [
       "                        product  list_price  average_rating  user_rating  \\\n",
       "0                 Double Roller          58             4.8          5.0   \n",
       "1                 Double Roller          58             4.8          5.0   \n",
       "2                 Double Roller          58             4.8          5.0   \n",
       "3                 Double Roller          58             4.8          4.0   \n",
       "4  Metal Vent Tech Short Sleeve          68             2.7          5.0   \n",
       "\n",
       "               user           location       athleticType ageRange  bodyType  \\\n",
       "0  MESMERIZEME96789  MILILANI, HI, USA             RUNNER    25-34  ATHLETIC   \n",
       "1           NAZANIN       BETHESDA, MD  SWEATY GENERALIST    25-34  ATHLETIC   \n",
       "2        JORDANNE00        RALEIGH, NC  SWEATY GENERALIST    25-34  ATHLETIC   \n",
       "3   THEGIRLNEXTDOOR   SEATTLE, WA, USA  SWEATY GENERALIST    18-24  ATHLETIC   \n",
       "4         YOGIHOLIC    DALLAS, TX, USA  SWEATY GENERALIST    25-34  ATHLETIC   \n",
       "\n",
       "                                        like     ...      \\\n",
       "0                                 functional     ...       \n",
       "1  color, design, versatile, effective, size     ...       \n",
       "2             grooves, double roller feature     ...       \n",
       "3                 versatility, design, color     ...       \n",
       "4                                        NaN     ...       \n",
       "\n",
       "                                                                                                  text  \\\n",
       "0  This roller is amazing. I wasn’t sure if I liked the color schemes but the function out performe...   \n",
       "1  It hurts like a you know what but the results are what I need after training. Props to lulu for ...   \n",
       "2  I have a love/hate relationship with this thing! I love it because it does it's job and helps ro...   \n",
       "3  This roller is a fairly decent one. Its a sweet deal, you get two for the price of one! The oute...   \n",
       "4  I was pretty stoked having my first lululemon shirt, and this shirt has been the most durable du...   \n",
       "\n",
       "  responseDate response helpfulYes helpfulNo date_Published gender   category  \\\n",
       "0          NaT      NaN          1         0     2018-07-26   male  accessory   \n",
       "1          NaT      NaN          1         0     2018-05-09   male  accessory   \n",
       "2          NaT      NaN          1         0     2018-05-01   male  accessory   \n",
       "3          NaT      NaN          1         0     2018-04-29   male  accessory   \n",
       "4          NaT      NaN          0         0     2018-08-05   male        top   \n",
       "\n",
       "      categoryType text length  \n",
       "0  yoga mats/props         184  \n",
       "1  yoga mats/props         510  \n",
       "2  yoga mats/props         604  \n",
       "3  yoga mats/props         412  \n",
       "4     short sleeve         253  \n",
       "\n",
       "[5 rows x 24 columns]"
      ]
     },
     "execution_count": 310,
     "metadata": {},
     "output_type": "execute_result"
    }
   ],
   "source": [
    "df.head()"
   ]
  },
  {
   "cell_type": "code",
   "execution_count": 313,
   "metadata": {},
   "outputs": [
    {
     "data": {
      "text/plain": [
       "(1815, 24)"
      ]
     },
     "execution_count": 313,
     "metadata": {},
     "output_type": "execute_result"
    }
   ],
   "source": [
    "df.shape"
   ]
  },
  {
   "cell_type": "code",
   "execution_count": 314,
   "metadata": {},
   "outputs": [
    {
     "data": {
      "text/plain": [
       "product                   object\n",
       "list_price                 int64\n",
       "average_rating           float64\n",
       "user_rating              float64\n",
       "user                      object\n",
       "location                  object\n",
       "athleticType              object\n",
       "ageRange                  object\n",
       "bodyType                  object\n",
       "like                      object\n",
       "not_like                  object\n",
       "fit                       object\n",
       "title                     object\n",
       "datePublished             object\n",
       "text                      object\n",
       "responseDate      datetime64[ns]\n",
       "response                  object\n",
       "helpfulYes                 int64\n",
       "helpfulNo                  int64\n",
       "date_Published    datetime64[ns]\n",
       "gender                    object\n",
       "category                  object\n",
       "categoryType              object\n",
       "text length                int64\n",
       "dtype: object"
      ]
     },
     "execution_count": 314,
     "metadata": {},
     "output_type": "execute_result"
    }
   ],
   "source": [
    "df.dtypes"
   ]
  },
  {
   "cell_type": "code",
   "execution_count": 316,
   "metadata": {},
   "outputs": [
    {
     "data": {
      "text/plain": [
       "product              0\n",
       "list_price           0\n",
       "average_rating       0\n",
       "user_rating          0\n",
       "user                 0\n",
       "location           365\n",
       "athleticType       341\n",
       "ageRange           286\n",
       "bodyType           296\n",
       "like               756\n",
       "not_like           860\n",
       "fit               1569\n",
       "title                0\n",
       "datePublished        0\n",
       "text                 0\n",
       "responseDate      1071\n",
       "response          1071\n",
       "helpfulYes           0\n",
       "helpfulNo            0\n",
       "date_Published       0\n",
       "gender               0\n",
       "category             0\n",
       "categoryType         0\n",
       "text length          0\n",
       "dtype: int64"
      ]
     },
     "execution_count": 316,
     "metadata": {},
     "output_type": "execute_result"
    }
   ],
   "source": [
    "df.isnull().sum()"
   ]
  },
  {
   "cell_type": "code",
   "execution_count": null,
   "metadata": {
    "collapsed": true
   },
   "outputs": [],
   "source": []
  },
  {
   "cell_type": "code",
   "execution_count": 311,
   "metadata": {
    "collapsed": true
   },
   "outputs": [],
   "source": [
    "df.to_csv('lululemon_final.csv')"
   ]
  }
 ],
 "metadata": {
  "kernelspec": {
   "display_name": "Python 3",
   "language": "python",
   "name": "python3"
  },
  "language_info": {
   "codemirror_mode": {
    "name": "ipython",
    "version": 3
   },
   "file_extension": ".py",
   "mimetype": "text/x-python",
   "name": "python",
   "nbconvert_exporter": "python",
   "pygments_lexer": "ipython3",
   "version": "3.6.3"
  }
 },
 "nbformat": 4,
 "nbformat_minor": 2
}
