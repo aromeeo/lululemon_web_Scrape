{
 "cells": [
  {
   "cell_type": "markdown",
   "metadata": {},
   "source": [
    "# Lululemon: Men's Running Clothing - NLP Techniques to Predict Whether or Not a Review Receives a Response from Customer Support"
   ]
  },
  {
   "cell_type": "markdown",
   "metadata": {},
   "source": [
    "* last scrape: Oct 2018"
   ]
  },
  {
   "cell_type": "code",
   "execution_count": 1,
   "metadata": {},
   "outputs": [],
   "source": [
    "import pandas as pd\n",
    "import numpy as np\n",
    "import matplotlib.pyplot as plt\n",
    "%matplotlib inline\n",
    "import matplotlib as matplot\n",
    "import seaborn as sns\n",
    "import string\n",
    "from time import time\n",
    "import re\n",
    "import collections\n",
    "from pprint import pprint\n",
    "\n",
    "\n",
    "from sklearn.base import BaseEstimator, TransformerMixin\n",
    "from sklearn.feature_extraction.text import CountVectorizer\n",
    "from sklearn.feature_extraction.text import TfidfVectorizer\n",
    "from sklearn.model_selection import train_test_split\n",
    "from sklearn.linear_model import LogisticRegression\n",
    "from sklearn.naive_bayes import MultinomialNB\n",
    "from sklearn.metrics import confusion_matrix, classification_report\n",
    "from sklearn.pipeline import Pipeline, FeatureUnion\n",
    "from sklearn.metrics import classification_report\n",
    "from sklearn.model_selection import GridSearchCV\n",
    "\n",
    "import gensim \n",
    "\n",
    "from nltk.corpus import stopwords\n",
    "from nltk.stem import PorterStemmer\n",
    "from nltk.tokenize import word_tokenize\n",
    "\n",
    "import warnings\n",
    "warnings.filterwarnings('ignore')"
   ]
  },
  {
   "cell_type": "code",
   "execution_count": 2,
   "metadata": {},
   "outputs": [],
   "source": [
    "df = pd.read_csv('cleaned_mensrunning_lululemon.csv')\n",
    "pd.options.display.max_colwidth = 100"
   ]
  },
  {
   "cell_type": "code",
   "execution_count": 3,
   "metadata": {},
   "outputs": [],
   "source": [
    "pd.set_option(\"display.max_columns\", None)"
   ]
  },
  {
   "cell_type": "code",
   "execution_count": 4,
   "metadata": {},
   "outputs": [],
   "source": [
    "df['reviewDate'] = pd.to_datetime(df['reviewDate'], infer_datetime_format=True)\n",
    "df['responseDate'] = pd.to_datetime(df['responseDate'], infer_datetime_format=True)"
   ]
  },
  {
   "cell_type": "markdown",
   "metadata": {},
   "source": [
    "# EDA - Category Types, Ratings, Response"
   ]
  },
  {
   "cell_type": "markdown",
   "metadata": {},
   "source": [
    "The target variable is `response` and has two class labels: 0 for no response, and 1 for response"
   ]
  },
  {
   "cell_type": "code",
   "execution_count": 11,
   "metadata": {},
   "outputs": [
    {
     "data": {
      "text/html": [
       "<div>\n",
       "<style scoped>\n",
       "    .dataframe tbody tr th:only-of-type {\n",
       "        vertical-align: middle;\n",
       "    }\n",
       "\n",
       "    .dataframe tbody tr th {\n",
       "        vertical-align: top;\n",
       "    }\n",
       "\n",
       "    .dataframe thead th {\n",
       "        text-align: right;\n",
       "    }\n",
       "</style>\n",
       "<table border=\"1\" class=\"dataframe\">\n",
       "  <thead>\n",
       "    <tr style=\"text-align: right;\">\n",
       "      <th></th>\n",
       "      <th>product</th>\n",
       "      <th>productCategory</th>\n",
       "      <th>productType</th>\n",
       "      <th>price</th>\n",
       "      <th>averageRating</th>\n",
       "      <th>username</th>\n",
       "      <th>userRating</th>\n",
       "      <th>userLocation</th>\n",
       "      <th>athleteType</th>\n",
       "      <th>ageRange</th>\n",
       "      <th>bodyType</th>\n",
       "      <th>likes</th>\n",
       "      <th>dislikes</th>\n",
       "      <th>fit</th>\n",
       "      <th>reviewTitle</th>\n",
       "      <th>reviewDate</th>\n",
       "      <th>reviewText</th>\n",
       "      <th>responseDate</th>\n",
       "      <th>responseText</th>\n",
       "      <th>Helpful</th>\n",
       "      <th>NotHelpful</th>\n",
       "      <th>reviewLength</th>\n",
       "      <th>response</th>\n",
       "    </tr>\n",
       "  </thead>\n",
       "  <tbody>\n",
       "    <tr>\n",
       "      <th>0</th>\n",
       "      <td>Metal Vent Tech Short Sleeve</td>\n",
       "      <td>Tops</td>\n",
       "      <td>Short Sleeves</td>\n",
       "      <td>68.0</td>\n",
       "      <td>2.9</td>\n",
       "      <td>NYR26</td>\n",
       "      <td>5.0</td>\n",
       "      <td>STAMFORD, CT</td>\n",
       "      <td>SWEATY GENERALIST</td>\n",
       "      <td>18-24</td>\n",
       "      <td>ATHLETIC</td>\n",
       "      <td>No Response</td>\n",
       "      <td>No Response</td>\n",
       "      <td>No Response</td>\n",
       "      <td>The best tshirt</td>\n",
       "      <td>2018-10-12</td>\n",
       "      <td>These are the most comfortable T-shirts. Wish you guys would make more colors and bring back the...</td>\n",
       "      <td>NaT</td>\n",
       "      <td>NaN</td>\n",
       "      <td>0</td>\n",
       "      <td>0</td>\n",
       "      <td>150</td>\n",
       "      <td>0</td>\n",
       "    </tr>\n",
       "    <tr>\n",
       "      <th>1</th>\n",
       "      <td>Metal Vent Tech Short Sleeve</td>\n",
       "      <td>Tops</td>\n",
       "      <td>Short Sleeves</td>\n",
       "      <td>68.0</td>\n",
       "      <td>2.9</td>\n",
       "      <td>MJB23</td>\n",
       "      <td>1.0</td>\n",
       "      <td>CHICAGO, IL, USA</td>\n",
       "      <td>SWEATY GENERALIST</td>\n",
       "      <td>18-24</td>\n",
       "      <td>MUSCULAR</td>\n",
       "      <td>design</td>\n",
       "      <td>quality</td>\n",
       "      <td>No Response</td>\n",
       "      <td>Very Poor Quality</td>\n",
       "      <td>2018-10-11</td>\n",
       "      <td>I purchased this Short Sleeve expecting it to be just like all the other ones I have in my colle...</td>\n",
       "      <td>2018-10-11</td>\n",
       "      <td>Dear mjb23,\\n\\nThanks for reaching out and providing this feedback for us. We hear where you're ...</td>\n",
       "      <td>0</td>\n",
       "      <td>0</td>\n",
       "      <td>567</td>\n",
       "      <td>1</td>\n",
       "    </tr>\n",
       "    <tr>\n",
       "      <th>2</th>\n",
       "      <td>Metal Vent Tech Short Sleeve</td>\n",
       "      <td>Tops</td>\n",
       "      <td>Short Sleeves</td>\n",
       "      <td>68.0</td>\n",
       "      <td>2.9</td>\n",
       "      <td>JKD123</td>\n",
       "      <td>1.0</td>\n",
       "      <td>CHICAGO, IL, USA</td>\n",
       "      <td>RUNNER</td>\n",
       "      <td>25-34</td>\n",
       "      <td>ATHLETIC</td>\n",
       "      <td>No Response</td>\n",
       "      <td>stretch, comfort</td>\n",
       "      <td>No Response</td>\n",
       "      <td>Stretches When You Sweat</td>\n",
       "      <td>2018-10-08</td>\n",
       "      <td>I bought this shirt for my husband to run the Chicago Marathon. Upon starting the race it fit gr...</td>\n",
       "      <td>2018-10-09</td>\n",
       "      <td>Hi Jkd123,\\n\\nThanks for reaching out and providing this feedback for us. I completely understan...</td>\n",
       "      <td>0</td>\n",
       "      <td>0</td>\n",
       "      <td>269</td>\n",
       "      <td>1</td>\n",
       "    </tr>\n",
       "    <tr>\n",
       "      <th>3</th>\n",
       "      <td>Metal Vent Tech Short Sleeve</td>\n",
       "      <td>Tops</td>\n",
       "      <td>Short Sleeves</td>\n",
       "      <td>68.0</td>\n",
       "      <td>2.9</td>\n",
       "      <td>SLASH</td>\n",
       "      <td>5.0</td>\n",
       "      <td>OVERLAND PARK, KS, USA</td>\n",
       "      <td>SWEATY GENERALIST</td>\n",
       "      <td>45-54</td>\n",
       "      <td>MUSCULAR</td>\n",
       "      <td>No Response</td>\n",
       "      <td>No Response</td>\n",
       "      <td>No Response</td>\n",
       "      <td>Love Lulu</td>\n",
       "      <td>2018-10-08</td>\n",
       "      <td>I have several shirts and shorts I have purchased from Lululemon. Hands down the best clothing I...</td>\n",
       "      <td>NaT</td>\n",
       "      <td>NaN</td>\n",
       "      <td>0</td>\n",
       "      <td>0</td>\n",
       "      <td>170</td>\n",
       "      <td>0</td>\n",
       "    </tr>\n",
       "    <tr>\n",
       "      <th>4</th>\n",
       "      <td>Metal Vent Tech Short Sleeve</td>\n",
       "      <td>Tops</td>\n",
       "      <td>Short Sleeves</td>\n",
       "      <td>68.0</td>\n",
       "      <td>2.9</td>\n",
       "      <td>BRANDONM19</td>\n",
       "      <td>4.0</td>\n",
       "      <td>HUTCHINSON, KS</td>\n",
       "      <td>SWEATY GENERALIST</td>\n",
       "      <td>18-24</td>\n",
       "      <td>ATHLETIC</td>\n",
       "      <td>sweat wicking material</td>\n",
       "      <td>No Response</td>\n",
       "      <td>No Response</td>\n",
       "      <td>Sweat wicking shirt</td>\n",
       "      <td>2018-10-03</td>\n",
       "      <td>Great for workouts.</td>\n",
       "      <td>NaT</td>\n",
       "      <td>NaN</td>\n",
       "      <td>0</td>\n",
       "      <td>0</td>\n",
       "      <td>19</td>\n",
       "      <td>0</td>\n",
       "    </tr>\n",
       "  </tbody>\n",
       "</table>\n",
       "</div>"
      ],
      "text/plain": [
       "                        product productCategory    productType  price  \\\n",
       "0  Metal Vent Tech Short Sleeve            Tops  Short Sleeves   68.0   \n",
       "1  Metal Vent Tech Short Sleeve            Tops  Short Sleeves   68.0   \n",
       "2  Metal Vent Tech Short Sleeve            Tops  Short Sleeves   68.0   \n",
       "3  Metal Vent Tech Short Sleeve            Tops  Short Sleeves   68.0   \n",
       "4  Metal Vent Tech Short Sleeve            Tops  Short Sleeves   68.0   \n",
       "\n",
       "   averageRating    username  userRating            userLocation  \\\n",
       "0            2.9       NYR26         5.0            STAMFORD, CT   \n",
       "1            2.9       MJB23         1.0        CHICAGO, IL, USA   \n",
       "2            2.9      JKD123         1.0        CHICAGO, IL, USA   \n",
       "3            2.9       SLASH         5.0  OVERLAND PARK, KS, USA   \n",
       "4            2.9  BRANDONM19         4.0          HUTCHINSON, KS   \n",
       "\n",
       "         athleteType ageRange  bodyType                   likes  \\\n",
       "0  SWEATY GENERALIST    18-24  ATHLETIC             No Response   \n",
       "1  SWEATY GENERALIST    18-24  MUSCULAR                  design   \n",
       "2             RUNNER    25-34  ATHLETIC             No Response   \n",
       "3  SWEATY GENERALIST    45-54  MUSCULAR             No Response   \n",
       "4  SWEATY GENERALIST    18-24  ATHLETIC  sweat wicking material   \n",
       "\n",
       "           dislikes          fit               reviewTitle reviewDate  \\\n",
       "0       No Response  No Response           The best tshirt 2018-10-12   \n",
       "1           quality  No Response         Very Poor Quality 2018-10-11   \n",
       "2  stretch, comfort  No Response  Stretches When You Sweat 2018-10-08   \n",
       "3       No Response  No Response                 Love Lulu 2018-10-08   \n",
       "4       No Response  No Response       Sweat wicking shirt 2018-10-03   \n",
       "\n",
       "                                                                                            reviewText  \\\n",
       "0  These are the most comfortable T-shirts. Wish you guys would make more colors and bring back the...   \n",
       "1  I purchased this Short Sleeve expecting it to be just like all the other ones I have in my colle...   \n",
       "2  I bought this shirt for my husband to run the Chicago Marathon. Upon starting the race it fit gr...   \n",
       "3  I have several shirts and shorts I have purchased from Lululemon. Hands down the best clothing I...   \n",
       "4                                                                                  Great for workouts.   \n",
       "\n",
       "  responseDate  \\\n",
       "0          NaT   \n",
       "1   2018-10-11   \n",
       "2   2018-10-09   \n",
       "3          NaT   \n",
       "4          NaT   \n",
       "\n",
       "                                                                                          responseText  \\\n",
       "0                                                                                                  NaN   \n",
       "1  Dear mjb23,\\n\\nThanks for reaching out and providing this feedback for us. We hear where you're ...   \n",
       "2  Hi Jkd123,\\n\\nThanks for reaching out and providing this feedback for us. I completely understan...   \n",
       "3                                                                                                  NaN   \n",
       "4                                                                                                  NaN   \n",
       "\n",
       "   Helpful  NotHelpful  reviewLength  response  \n",
       "0        0           0           150         0  \n",
       "1        0           0           567         1  \n",
       "2        0           0           269         1  \n",
       "3        0           0           170         0  \n",
       "4        0           0            19         0  "
      ]
     },
     "execution_count": 11,
     "metadata": {},
     "output_type": "execute_result"
    }
   ],
   "source": [
    "df.head()"
   ]
  },
  {
   "cell_type": "code",
   "execution_count": 12,
   "metadata": {},
   "outputs": [
    {
     "data": {
      "image/png": "[encoded data removed]",
      "text/plain": [
       "<Figure size 648x432 with 1 Axes>"
      ]
     },
     "metadata": {
      "needs_background": "light"
     },
     "output_type": "display_data"
    }
   ],
   "source": [
    "sns.factorplot(x=\"response\", data=df, kind=\"count\", height=6, aspect=1.5);"
   ]
  },
  {
   "cell_type": "markdown",
   "metadata": {},
   "source": [
    "Response variable is not imbalanced."
   ]
  },
  {
   "cell_type": "code",
   "execution_count": 13,
   "metadata": {},
   "outputs": [],
   "source": [
    "class TextCounts(BaseEstimator, TransformerMixin):\n",
    "    \n",
    "    def count_regex(self, pattern, review):\n",
    "        return len(re.findall(pattern, review))\n",
    "    \n",
    "    def fit(self, X, y=None, **fit_params):\n",
    "        # fit method is used when specific operations need to be done on the train data, but not on the test data\n",
    "        return self\n",
    "    \n",
    "    def transform(self, X, **transform_params):\n",
    "        count_words = X.apply(lambda x: self.count_regex(r'\\w+', x)) \n",
    "        count_capital_words = X.apply(lambda x: self.count_regex(r'\\b[A-Z]{2,}\\b', x))\n",
    "        count_excl_quest_marks = X.apply(lambda x: self.count_regex(r'!|\\?', x))\n",
    "\n",
    "        df = pd.DataFrame({'count_words': count_words\n",
    "                           , 'count_capital_words': count_capital_words\n",
    "                           , 'count_excl_quest_marks': count_excl_quest_marks\n",
    "                          })\n",
    "        \n",
    "        return df"
   ]
  },
  {
   "cell_type": "code",
   "execution_count": 14,
   "metadata": {},
   "outputs": [],
   "source": [
    "tc = TextCounts()\n",
    "df_eda = tc.fit_transform(df.reviewText)"
   ]
  },
  {
   "cell_type": "code",
   "execution_count": 15,
   "metadata": {},
   "outputs": [],
   "source": [
    "def show_dist(df, col):\n",
    "    print('Descriptive stats for {}'.format(col))\n",
    "    print('-'*(len(col)+22))\n",
    "    print(df.groupby('response')[col].describe())\n",
    "    bins = np.arange(df[col].min(), df[col].max() + 1)\n",
    "    g = sns.FacetGrid(df, col='response', size=5, hue='response')\n",
    "    g = g.map(sns.distplot, col, kde=False, norm_hist=True, bins=bins)\n",
    "    plt.show()"
   ]
  },
  {
   "cell_type": "code",
   "execution_count": 16,
   "metadata": {},
   "outputs": [],
   "source": [
    "# Add response to df_eda\n",
    "df_eda['response'] = df.response"
   ]
  },
  {
   "cell_type": "markdown",
   "metadata": {},
   "source": [
    "# EDA looking at distribution of word counts, capital word counts, and exclamation/question marks"
   ]
  },
  {
   "cell_type": "code",
   "execution_count": 17,
   "metadata": {},
   "outputs": [
    {
     "name": "stdout",
     "output_type": "stream",
     "text": [
      "Descriptive stats for count_words\n",
      "---------------------------------\n",
      "           count       mean        std  min   25%   50%   75%    max\n",
      "response                                                            \n",
      "0         1190.0  57.689916  43.815795  1.0  27.0  48.0  74.0  340.0\n",
      "1          669.0  75.753363  47.620102  1.0  44.0  67.0  95.0  397.0\n"
     ]
    },
    {
     "data": {
      "image/png": "[encoded data removed]",
      "text/plain": [
       "<Figure size 720x360 with 2 Axes>"
      ]
     },
     "metadata": {
      "needs_background": "light"
     },
     "output_type": "display_data"
    }
   ],
   "source": [
    "show_dist(df_eda, 'count_words')"
   ]
  },
  {
   "cell_type": "code",
   "execution_count": 18,
   "metadata": {},
   "outputs": [
    {
     "name": "stdout",
     "output_type": "stream",
     "text": [
      "Descriptive stats for count_capital_words\n",
      "-----------------------------------------\n",
      "           count      mean       std  min  25%  50%  75%   max\n",
      "response                                                      \n",
      "0         1190.0  0.300000  1.977140  0.0  0.0  0.0  0.0  63.0\n",
      "1          669.0  0.216741  0.676346  0.0  0.0  0.0  0.0   9.0\n"
     ]
    },
    {
     "data": {
      "image/png": "[encoded data removed]",
      "text/plain": [
       "<Figure size 720x360 with 2 Axes>"
      ]
     },
     "metadata": {
      "needs_background": "light"
     },
     "output_type": "display_data"
    }
   ],
   "source": [
    "show_dist(df_eda, 'count_capital_words')"
   ]
  },
  {
   "cell_type": "code",
   "execution_count": 19,
   "metadata": {},
   "outputs": [
    {
     "name": "stdout",
     "output_type": "stream",
     "text": [
      "Descriptive stats for count_excl_quest_marks\n",
      "--------------------------------------------\n",
      "           count      mean       std  min  25%  50%  75%   max\n",
      "response                                                      \n",
      "0         1190.0  0.563866  1.099218  0.0  0.0  0.0  1.0   9.0\n",
      "1          669.0  0.343797  1.027268  0.0  0.0  0.0  0.0  18.0\n"
     ]
    },
    {
     "data": {
      "image/png": "[encoded data removed]",
      "text/plain": [
       "<Figure size 720x360 with 2 Axes>"
      ]
     },
     "metadata": {
      "needs_background": "light"
     },
     "output_type": "display_data"
    }
   ],
   "source": [
    "show_dist(df_eda, 'count_excl_quest_marks')"
   ]
  },
  {
   "cell_type": "code",
   "execution_count": 20,
   "metadata": {},
   "outputs": [],
   "source": [
    "prodType = df.groupby('productType')['product'].count().reset_index().sort_values('product', ascending=False).reset_index(drop=True)\n",
    "prodType = prodType.rename(columns={'productType':'Product Type', 'product':'Total Reviews'})"
   ]
  },
  {
   "cell_type": "code",
   "execution_count": 21,
   "metadata": {
    "slideshow": {
     "slide_type": "-"
    }
   },
   "outputs": [
    {
     "data": {
      "image/png": "[encoded data removed]",
      "text/plain": [
       "<Figure size 936x504 with 1 Axes>"
      ]
     },
     "metadata": {},
     "output_type": "display_data"
    }
   ],
   "source": [
    "sns.set(style=\"whitegrid\")\n",
    "\n",
    "# Initialize the matplotlib figure\n",
    "f, ax = plt.subplots(figsize=(13, 7))\n",
    "\n",
    "# Plot the total reviews per category type\n",
    "sns.set_color_codes(\"pastel\")\n",
    "sns.barplot(x = 'Total Reviews', y='Product Type', data=prodType)\n",
    "\n",
    "# Add an informative axis label\n",
    "ax.set(ylabel=\"Product Type\", title='Number of Reviews per Product Type',\n",
    "       xlabel=\"# of Reviews\")\n",
    "sns.despine(left=True, bottom=True)\n",
    "# plt.savefig('output.png', dpi=300)"
   ]
  },
  {
   "cell_type": "code",
   "execution_count": 22,
   "metadata": {},
   "outputs": [
    {
     "data": {
      "image/png": "[encoded data removed]",
      "text/plain": [
       "<Figure size 720x576 with 1 Axes>"
      ]
     },
     "metadata": {},
     "output_type": "display_data"
    }
   ],
   "source": [
    "plt.figure(figsize=(10,8))\n",
    "\n",
    "sns.distplot(df['averageRating'])\n",
    "plt.title(\"Average Ratings\", fontsize=16)\n",
    "plt.show();"
   ]
  },
  {
   "cell_type": "code",
   "execution_count": 23,
   "metadata": {},
   "outputs": [
    {
     "data": {
      "image/png": "[encoded data removed]",
      "text/plain": [
       "<Figure size 720x576 with 1 Axes>"
      ]
     },
     "metadata": {},
     "output_type": "display_data"
    }
   ],
   "source": [
    "userRatingsCounts = df['userRating'].value_counts()\n",
    "plt.figure(figsize=(10,8))\n",
    "sns.barplot(x=userRatingsCounts.index[::-1], y=userRatingsCounts.values[::-1])\n",
    "plt.title(\"User Ratings\", fontsize=16)\n",
    "plt.show();"
   ]
  },
  {
   "cell_type": "markdown",
   "metadata": {},
   "source": [
    "The most amount of responses come from ratings of 1-3; 4's and 5's get the lowest amount of responses."
   ]
  },
  {
   "cell_type": "markdown",
   "metadata": {},
   "source": [
    "# Age Range"
   ]
  },
  {
   "cell_type": "code",
   "execution_count": 24,
   "metadata": {},
   "outputs": [
    {
     "data": {
      "image/png": "[encoded data removed]",
      "text/plain": [
       "<Figure size 432x288 with 1 Axes>"
      ]
     },
     "metadata": {},
     "output_type": "display_data"
    }
   ],
   "source": [
    "age_count = df['ageRange'].value_counts()\n",
    "sns.set(style=\"white\")\n",
    "sns.set_color_codes(\"pastel\")\n",
    "\n",
    "\n",
    "sns.barplot(y = age_count.index, x = age_count.values, alpha=0.9)\n",
    "\n",
    "plt.title('Frequency Distribution of Age Range')\n",
    "plt.ylabel('Number of Occurrences', fontsize=12)\n",
    "plt.xlabel('Age Range', fontsize=12);"
   ]
  },
  {
   "cell_type": "markdown",
   "metadata": {},
   "source": [
    "Seems that ratings follow a similar distribution in review length.\n",
    "There also seems to be a lower amount of 3 and 4 ratings\n",
    "Mostly ratings of 5"
   ]
  },
  {
   "cell_type": "markdown",
   "metadata": {},
   "source": [
    "# Date of Review"
   ]
  },
  {
   "cell_type": "code",
   "execution_count": 25,
   "metadata": {},
   "outputs": [],
   "source": [
    "from datetime import datetime"
   ]
  },
  {
   "cell_type": "code",
   "execution_count": 26,
   "metadata": {
    "collapsed": true
   },
   "outputs": [],
   "source": [
    "# By Year\n",
    "\n",
    "df['reviewDate'] = pd.to_datetime(df['reviewDate'], infer_datetime_format=True)\n",
    "df['responseDate'] = pd.to_datetime(df['responseDate'], infer_datetime_format=True)\n",
    "df['reviewYear'], df['reviewMonth'] = df['reviewDate'].dt.year, df['reviewDate'].dt.month\n",
    "year_counts = df.groupby('reviewYear')['product'].count().reset_index()\n",
    "year_counts = year_counts.rename(columns={'reviewYear':'Year', 'product':'Total Reviews'})"
   ]
  },
  {
   "cell_type": "code",
   "execution_count": 27,
   "metadata": {},
   "outputs": [
    {
     "data": {
      "image/png": "[encoded data removed]",
      "text/plain": [
       "<Figure size 936x504 with 1 Axes>"
      ]
     },
     "metadata": {},
     "output_type": "display_data"
    }
   ],
   "source": [
    "# Initialize the matplotlib figure\n",
    "f, ax = plt.subplots(figsize=(13, 7))\n",
    "\n",
    "# Plot the total reviews per category type\n",
    "sns.set_color_codes(\"pastel\")\n",
    "sns.barplot(x = 'Year', y='Total Reviews', data=year_counts)\n",
    "\n",
    "# Add an informative axis label\n",
    "ax.set(ylabel=\"# of Reviews\", title='Number of Reviews per Year',\n",
    "       xlabel=\"Year\")\n",
    "sns.despine(left=True, bottom=True)"
   ]
  },
  {
   "cell_type": "code",
   "execution_count": 28,
   "metadata": {},
   "outputs": [
    {
     "data": {
      "image/png": "[encoded data removed]",
      "text/plain": [
       "<Figure size 936x504 with 1 Axes>"
      ]
     },
     "metadata": {},
     "output_type": "display_data"
    }
   ],
   "source": [
    "# By Month\n",
    "\n",
    "month_counts = df.groupby('reviewMonth')['product'].count().reset_index()\n",
    "month_counts = month_counts.rename(columns={'product':'Total Reviews'})\n",
    "\n",
    "# Initialize the matplotlib figure\n",
    "f, ax = plt.subplots(figsize=(13, 7))\n",
    "\n",
    "# Plot the total reviews per category type\n",
    "sns.set_color_codes(\"pastel\")\n",
    "sns.barplot(x = 'reviewMonth', y='Total Reviews', data=month_counts)\n",
    "\n",
    "# Add an informative axis label\n",
    "ax.set(ylabel=\"# of Reviews\", title='Number of Reviews per Month',\n",
    "       xlabel=\"Month\")\n",
    "sns.despine(left=True, bottom=True)"
   ]
  },
  {
   "cell_type": "markdown",
   "metadata": {},
   "source": [
    "# Responses"
   ]
  },
  {
   "cell_type": "code",
   "execution_count": 29,
   "metadata": {},
   "outputs": [
    {
     "data": {
      "text/plain": [
       "0    0.640129\n",
       "1    0.359871\n",
       "Name: response, dtype: float64"
      ]
     },
     "execution_count": 29,
     "metadata": {},
     "output_type": "execute_result"
    }
   ],
   "source": [
    "df.response.value_counts(normalize=True)"
   ]
  },
  {
   "cell_type": "markdown",
   "metadata": {},
   "source": [
    "# Analysis on Reviews\n",
    "- preprocess\n",
    " - punctuation\n",
    " - digits\n",
    " - lower case\n",
    " - filter stop words\n",
    " - stemming (Porter Stemmer)\n",
    "- clean text\n",
    "- check for reviews left with no words (there were none)\n",
    "- count word frequency\n",
    "# Modeling\n",
    "- use gridsearch for best parameter using MultinomialNB/Logisitic Regression each using Count Vectorize/TF-IDF for vocabulary\n",
    "- apply gensim Word2Vec using only Logistic Regression"
   ]
  },
  {
   "cell_type": "code",
   "execution_count": 30,
   "metadata": {},
   "outputs": [],
   "source": [
    "class CleanText(BaseEstimator, TransformerMixin):\n",
    "    def remove_punctuation(self, input_text):\n",
    "        # Make translation table\n",
    "        punct = string.punctuation\n",
    "        trantab = str.maketrans(punct, len(punct)*' ')  # Every punctuation symbol will be replaced by a space\n",
    "        return input_text.translate(trantab)\n",
    "\n",
    "    def remove_digits(self, input_text):\n",
    "        return re.sub('\\d+', '', input_text)\n",
    "    \n",
    "    def to_lower(self, input_text):\n",
    "        return input_text.lower()\n",
    "    \n",
    "    def remove_stopwords(self, input_text):\n",
    "        stopwords_list = stopwords.words('english')\n",
    "        # Some words which might indicate a certain sentiment are kept via a whitelist\n",
    "        whitelist = [\"n't\", \"not\", \"no\"]\n",
    "        words = input_text.split() \n",
    "        clean_words = [word for word in words if (word not in stopwords_list or word in whitelist) and len(word) > 1] \n",
    "        return \" \".join(clean_words) \n",
    "    \n",
    "    def stemming(self, input_text):\n",
    "        porter = PorterStemmer()\n",
    "        words = input_text.split() \n",
    "        stemmed_words = [porter.stem(word) for word in words]\n",
    "        return \" \".join(stemmed_words)\n",
    "    \n",
    "    def fit(self, X, y=None, **fit_params):\n",
    "        return self\n",
    "    \n",
    "    def transform(self, X, **transform_params):\n",
    "        clean_X = X.apply(self.remove_punctuation).apply(self.remove_digits).apply(self.to_lower).apply(self.remove_stopwords).apply(self.stemming)\n",
    "        return clean_X"
   ]
  },
  {
   "cell_type": "code",
   "execution_count": 31,
   "metadata": {},
   "outputs": [
    {
     "data": {
      "text/plain": [
       "1787    shirt awesom fit long enough bodi ride squat deadlift pull up exercis also look realli good easi...\n",
       "724     bought five shirt instructor program littl bit short hope wash stretch bit length past length al...\n",
       "1140                                                              issu liner rip report lululemon took care\n",
       "41      bought short incognito camo red multi today eye color saw sale local store way pick store hem me...\n",
       "148     never purchas workout short liner bit skeptic favorit short wear gym appar minor like liner mayb...\n",
       "Name: reviewText, dtype: object"
      ]
     },
     "execution_count": 31,
     "metadata": {},
     "output_type": "execute_result"
    }
   ],
   "source": [
    "ct = CleanText()\n",
    "sr_clean = ct.fit_transform(df.reviewText)\n",
    "sr_clean.sample(5)"
   ]
  },
  {
   "cell_type": "code",
   "execution_count": 32,
   "metadata": {},
   "outputs": [
    {
     "name": "stdout",
     "output_type": "stream",
     "text": [
      "0 records have no words left after text cleaning\n"
     ]
    }
   ],
   "source": [
    "empty_clean = sr_clean == ''\n",
    "print('{} records have no words left after text cleaning'.format(sr_clean[empty_clean].count()))\n",
    "sr_clean.loc[empty_clean] = '[no_text]'"
   ]
  },
  {
   "cell_type": "code",
   "execution_count": 33,
   "metadata": {},
   "outputs": [
    {
     "data": {
      "image/png": "[encoded data removed]",
      "text/plain": [
       "<Figure size 864x720 with 1 Axes>"
      ]
     },
     "metadata": {},
     "output_type": "display_data"
    }
   ],
   "source": [
    "cv = CountVectorizer()\n",
    "bow = cv.fit_transform(sr_clean)\n",
    "word_freq = dict(zip(cv.get_feature_names(), np.asarray(bow.sum(axis=0)).ravel()))\n",
    "word_counter = collections.Counter(word_freq)\n",
    "word_counter_df = pd.DataFrame(word_counter.most_common(20), columns = ['word', 'freq'])\n",
    "\n",
    "fig, ax = plt.subplots(figsize=(12, 10))\n",
    "sns.barplot(x=\"word\", y=\"freq\", data=word_counter_df, palette=\"PuBuGn_d\", ax=ax)\n",
    "plt.show();"
   ]
  },
  {
   "cell_type": "code",
   "execution_count": 34,
   "metadata": {},
   "outputs": [
    {
     "data": {
      "text/plain": [
       "['count_words',\n",
       " 'count_capital_words',\n",
       " 'count_excl_quest_marks',\n",
       " 'response',\n",
       " 'clean_text']"
      ]
     },
     "execution_count": 34,
     "metadata": {},
     "output_type": "execute_result"
    }
   ],
   "source": [
    "df_model = df_eda\n",
    "df_model['clean_text'] = sr_clean\n",
    "df_model.columns.tolist()"
   ]
  },
  {
   "cell_type": "code",
   "execution_count": 35,
   "metadata": {},
   "outputs": [],
   "source": [
    "class ColumnExtractor(TransformerMixin, BaseEstimator):\n",
    "    def __init__(self, cols):\n",
    "        self.cols = cols\n",
    "\n",
    "    def transform(self, X, **transform_params):\n",
    "        return X[self.cols]\n",
    "\n",
    "    def fit(self, X, y=None, **fit_params):\n",
    "        return self"
   ]
  },
  {
   "cell_type": "code",
   "execution_count": 36,
   "metadata": {},
   "outputs": [],
   "source": [
    "X_train, X_test, y_train, y_test = train_test_split(df_model.drop('response', axis=1), df_model['response'], test_size=0.3, random_state=1)"
   ]
  },
  {
   "cell_type": "code",
   "execution_count": 37,
   "metadata": {},
   "outputs": [],
   "source": [
    "# Based on http://scikit-learn.org/stable/auto_examples/model_selection/grid_search_text_feature_extraction.html\n",
    "def grid_vect(clf, parameters_clf, X_train, X_test, parameters_text=None, vect=None, is_w2v=False):\n",
    "    \n",
    "    textcountscols = ['count_capital_words', 'count_excl_quest_marks', 'count_words']\n",
    "    \n",
    "    if is_w2v:\n",
    "        w2vcols = []\n",
    "        for i in range(SIZE):\n",
    "            w2vcols.append(i)\n",
    "        features = FeatureUnion([('textcounts', ColumnExtractor(cols=textcountscols))\n",
    "                                 , ('w2v', ColumnExtractor(cols=w2vcols))]\n",
    "                                , n_jobs=-1)\n",
    "    else:\n",
    "        features = FeatureUnion([('textcounts', ColumnExtractor(cols=textcountscols))\n",
    "                                 , ('pipe', Pipeline([('cleantext', ColumnExtractor(cols='clean_text')), ('vect', vect)]))]\n",
    "                                , n_jobs=-1)\n",
    "\n",
    "    \n",
    "    pipeline = Pipeline([\n",
    "        ('features', features)\n",
    "        , ('clf', clf)\n",
    "    ])\n",
    "    \n",
    "    # Join the parameters dictionaries together\n",
    "    parameters = dict()\n",
    "    if parameters_text:\n",
    "        parameters.update(parameters_text)\n",
    "    parameters.update(parameters_clf)\n",
    "\n",
    "    grid_search = GridSearchCV(pipeline, parameters, n_jobs=-1, verbose=1, cv=5)\n",
    "    \n",
    "    print(\"Performing grid search...\")\n",
    "    print(\"pipeline:\", [name for name, _ in pipeline.steps])\n",
    "    print(\"parameters:\")\n",
    "    pprint(parameters)\n",
    "\n",
    "    t0 = time()\n",
    "    grid_search.fit(X_train, y_train)\n",
    "    print(\"done in %0.3fs\" % (time() - t0))\n",
    "    print()\n",
    "\n",
    "    print(\"Best CV score: %0.3f\" % grid_search.best_score_)\n",
    "    print(\"Best parameters set:\")\n",
    "    best_parameters = grid_search.best_estimator_.get_params()\n",
    "    for param_name in sorted(parameters.keys()):\n",
    "        print(\"\\t%s: %r\" % (param_name, best_parameters[param_name]))\n",
    "        \n",
    "    print(\"Test score with best_estimator_: %0.3f\" % grid_search.best_estimator_.score(X_test, y_test))\n",
    "    print(\"\\n\")\n",
    "    print(\"Classification Report Test Data\")\n",
    "    print(classification_report(y_test, grid_search.best_estimator_.predict(X_test)))\n",
    "                        \n",
    "    return grid_search"
   ]
  },
  {
   "cell_type": "code",
   "execution_count": 38,
   "metadata": {},
   "outputs": [],
   "source": [
    "# Parameter grid settings for the vectorizers (Count and TFIDF)\n",
    "parameters_vect = {\n",
    "    'features__pipe__vect__max_df': (0.25, 0.5, 0.75),\n",
    "    'features__pipe__vect__ngram_range': ((1, 1), (1, 2)),\n",
    "    'features__pipe__vect__min_df': (1,2)\n",
    "}\n",
    "\n",
    "\n",
    "# Parameter grid settings for MultinomialNB\n",
    "parameters_mnb = {\n",
    "    'clf__alpha': (0.25, 0.5, 0.75)\n",
    "}\n",
    "\n",
    "\n",
    "# Parameter grid settings for LogisticRegression\n",
    "parameters_logreg = {\n",
    "    'clf__C': (0.25, 0.5, 1.0),\n",
    "    'clf__penalty': ('l1', 'l2')\n",
    "}"
   ]
  },
  {
   "cell_type": "markdown",
   "metadata": {},
   "source": [
    "# Classifiers"
   ]
  },
  {
   "cell_type": "code",
   "execution_count": 39,
   "metadata": {},
   "outputs": [],
   "source": [
    "mnb = MultinomialNB()\n",
    "logreg = LogisticRegression()"
   ]
  },
  {
   "cell_type": "markdown",
   "metadata": {},
   "source": [
    "# Count Vectorizer"
   ]
  },
  {
   "cell_type": "code",
   "execution_count": 40,
   "metadata": {},
   "outputs": [],
   "source": [
    "countvect = CountVectorizer()"
   ]
  },
  {
   "cell_type": "code",
   "execution_count": 41,
   "metadata": {},
   "outputs": [
    {
     "name": "stdout",
     "output_type": "stream",
     "text": [
      "Performing grid search...\n",
      "pipeline: ['features', 'clf']\n",
      "parameters:\n",
      "{'clf__alpha': (0.25, 0.5, 0.75),\n",
      " 'features__pipe__vect__max_df': (0.25, 0.5, 0.75),\n",
      " 'features__pipe__vect__min_df': (1, 2),\n",
      " 'features__pipe__vect__ngram_range': ((1, 1), (1, 2))}\n",
      "Fitting 5 folds for each of 36 candidates, totalling 180 fits\n"
     ]
    },
    {
     "name": "stderr",
     "output_type": "stream",
     "text": [
      "[Parallel(n_jobs=-1)]: Using backend LokyBackend with 4 concurrent workers.\n",
      "[Parallel(n_jobs=-1)]: Done  42 tasks      | elapsed:    7.3s\n",
      "[Parallel(n_jobs=-1)]: Done 180 out of 180 | elapsed:   20.5s finished\n"
     ]
    },
    {
     "name": "stdout",
     "output_type": "stream",
     "text": [
      "done in 20.830s\n",
      "\n",
      "Best CV score: 0.826\n",
      "Best parameters set:\n",
      "\tclf__alpha: 0.75\n",
      "\tfeatures__pipe__vect__max_df: 0.75\n",
      "\tfeatures__pipe__vect__min_df: 2\n",
      "\tfeatures__pipe__vect__ngram_range: (1, 2)\n",
      "Test score with best_estimator_: 0.806\n",
      "\n",
      "\n",
      "Classification Report Test Data\n",
      "              precision    recall  f1-score   support\n",
      "\n",
      "           0       0.85      0.86      0.85       362\n",
      "           1       0.73      0.71      0.72       196\n",
      "\n",
      "   micro avg       0.81      0.81      0.81       558\n",
      "   macro avg       0.79      0.79      0.79       558\n",
      "weighted avg       0.81      0.81      0.81       558\n",
      "\n"
     ]
    }
   ],
   "source": [
    "# MultinomialNB\n",
    "best_mnb_countvect = grid_vect(mnb, parameters_mnb, X_train, X_test, parameters_text=parameters_vect, vect=countvect)"
   ]
  },
  {
   "cell_type": "code",
   "execution_count": 42,
   "metadata": {},
   "outputs": [
    {
     "name": "stdout",
     "output_type": "stream",
     "text": [
      "Performing grid search...\n",
      "pipeline: ['features', 'clf']\n",
      "parameters:\n",
      "{'clf__C': (0.25, 0.5, 1.0),\n",
      " 'clf__penalty': ('l1', 'l2'),\n",
      " 'features__pipe__vect__max_df': (0.25, 0.5, 0.75),\n",
      " 'features__pipe__vect__min_df': (1, 2),\n",
      " 'features__pipe__vect__ngram_range': ((1, 1), (1, 2))}\n",
      "Fitting 5 folds for each of 72 candidates, totalling 360 fits\n"
     ]
    },
    {
     "name": "stderr",
     "output_type": "stream",
     "text": [
      "[Parallel(n_jobs=-1)]: Using backend LokyBackend with 4 concurrent workers.\n",
      "[Parallel(n_jobs=-1)]: Done  42 tasks      | elapsed:    4.3s\n",
      "[Parallel(n_jobs=-1)]: Done 192 tasks      | elapsed:   19.3s\n",
      "[Parallel(n_jobs=-1)]: Done 360 out of 360 | elapsed:   36.0s finished\n"
     ]
    },
    {
     "name": "stdout",
     "output_type": "stream",
     "text": [
      "done in 36.857s\n",
      "\n",
      "Best CV score: 0.812\n",
      "Best parameters set:\n",
      "\tclf__C: 0.25\n",
      "\tclf__penalty: 'l2'\n",
      "\tfeatures__pipe__vect__max_df: 0.75\n",
      "\tfeatures__pipe__vect__min_df: 1\n",
      "\tfeatures__pipe__vect__ngram_range: (1, 2)\n",
      "Test score with best_estimator_: 0.771\n",
      "\n",
      "\n",
      "Classification Report Test Data\n",
      "              precision    recall  f1-score   support\n",
      "\n",
      "           0       0.78      0.89      0.83       362\n",
      "           1       0.73      0.55      0.63       196\n",
      "\n",
      "   micro avg       0.77      0.77      0.77       558\n",
      "   macro avg       0.76      0.72      0.73       558\n",
      "weighted avg       0.77      0.77      0.76       558\n",
      "\n"
     ]
    }
   ],
   "source": [
    "# LogisticRegression\n",
    "best_logreg_countvect = grid_vect(logreg, parameters_logreg, X_train, X_test, parameters_text=parameters_vect, vect=countvect)"
   ]
  },
  {
   "cell_type": "markdown",
   "metadata": {},
   "source": [
    "# TF-IDF"
   ]
  },
  {
   "cell_type": "code",
   "execution_count": 43,
   "metadata": {},
   "outputs": [],
   "source": [
    "tfidfvect = TfidfVectorizer()"
   ]
  },
  {
   "cell_type": "code",
   "execution_count": 44,
   "metadata": {},
   "outputs": [
    {
     "name": "stdout",
     "output_type": "stream",
     "text": [
      "Performing grid search...\n",
      "pipeline: ['features', 'clf']\n",
      "parameters:\n",
      "{'clf__alpha': (0.25, 0.5, 0.75),\n",
      " 'features__pipe__vect__max_df': (0.25, 0.5, 0.75),\n",
      " 'features__pipe__vect__min_df': (1, 2),\n",
      " 'features__pipe__vect__ngram_range': ((1, 1), (1, 2))}\n",
      "Fitting 5 folds for each of 36 candidates, totalling 180 fits\n"
     ]
    },
    {
     "name": "stderr",
     "output_type": "stream",
     "text": [
      "[Parallel(n_jobs=-1)]: Using backend LokyBackend with 4 concurrent workers.\n",
      "[Parallel(n_jobs=-1)]: Done  42 tasks      | elapsed:    4.1s\n",
      "[Parallel(n_jobs=-1)]: Done 180 out of 180 | elapsed:   17.0s finished\n"
     ]
    },
    {
     "name": "stdout",
     "output_type": "stream",
     "text": [
      "done in 17.373s\n",
      "\n",
      "Best CV score: 0.812\n",
      "Best parameters set:\n",
      "\tclf__alpha: 0.25\n",
      "\tfeatures__pipe__vect__max_df: 0.25\n",
      "\tfeatures__pipe__vect__min_df: 2\n",
      "\tfeatures__pipe__vect__ngram_range: (1, 2)\n",
      "Test score with best_estimator_: 0.787\n",
      "\n",
      "\n",
      "Classification Report Test Data\n",
      "              precision    recall  f1-score   support\n",
      "\n",
      "           0       0.81      0.88      0.84       362\n",
      "           1       0.74      0.61      0.67       196\n",
      "\n",
      "   micro avg       0.79      0.79      0.79       558\n",
      "   macro avg       0.77      0.75      0.76       558\n",
      "weighted avg       0.78      0.79      0.78       558\n",
      "\n"
     ]
    }
   ],
   "source": [
    "# MultinomialNB\n",
    "best_mnb_tfidf = grid_vect(mnb, parameters_mnb, X_train, X_test, parameters_text=parameters_vect, vect=tfidfvect)"
   ]
  },
  {
   "cell_type": "code",
   "execution_count": 45,
   "metadata": {},
   "outputs": [
    {
     "name": "stdout",
     "output_type": "stream",
     "text": [
      "Performing grid search...\n",
      "pipeline: ['features', 'clf']\n",
      "parameters:\n",
      "{'clf__C': (0.25, 0.5, 1.0),\n",
      " 'clf__penalty': ('l1', 'l2'),\n",
      " 'features__pipe__vect__max_df': (0.25, 0.5, 0.75),\n",
      " 'features__pipe__vect__min_df': (1, 2),\n",
      " 'features__pipe__vect__ngram_range': ((1, 1), (1, 2))}\n",
      "Fitting 5 folds for each of 72 candidates, totalling 360 fits\n"
     ]
    },
    {
     "name": "stderr",
     "output_type": "stream",
     "text": [
      "[Parallel(n_jobs=-1)]: Using backend LokyBackend with 4 concurrent workers.\n",
      "[Parallel(n_jobs=-1)]: Done  42 tasks      | elapsed:    4.2s\n",
      "[Parallel(n_jobs=-1)]: Done 192 tasks      | elapsed:   18.3s\n",
      "[Parallel(n_jobs=-1)]: Done 360 out of 360 | elapsed:   34.4s finished\n"
     ]
    },
    {
     "name": "stdout",
     "output_type": "stream",
     "text": [
      "done in 34.462s\n",
      "\n",
      "Best CV score: 0.804\n",
      "Best parameters set:\n",
      "\tclf__C: 1.0\n",
      "\tclf__penalty: 'l2'\n",
      "\tfeatures__pipe__vect__max_df: 0.5\n",
      "\tfeatures__pipe__vect__min_df: 2\n",
      "\tfeatures__pipe__vect__ngram_range: (1, 1)\n",
      "Test score with best_estimator_: 0.772\n",
      "\n",
      "\n",
      "Classification Report Test Data\n",
      "              precision    recall  f1-score   support\n",
      "\n",
      "           0       0.78      0.91      0.84       362\n",
      "           1       0.76      0.52      0.61       196\n",
      "\n",
      "   micro avg       0.77      0.77      0.77       558\n",
      "   macro avg       0.77      0.71      0.73       558\n",
      "weighted avg       0.77      0.77      0.76       558\n",
      "\n"
     ]
    }
   ],
   "source": [
    "# LogisticRegression\n",
    "best_logreg_tfidf = grid_vect(logreg, parameters_logreg, X_train, X_test, parameters_text=parameters_vect, vect=tfidfvect)"
   ]
  },
  {
   "cell_type": "markdown",
   "metadata": {},
   "source": [
    "# Word2Vec: word similarity"
   ]
  },
  {
   "cell_type": "code",
   "execution_count": 46,
   "metadata": {},
   "outputs": [],
   "source": [
    "SIZE = 50\n",
    "\n",
    "X_train['clean_text_wordlist'] = X_train.clean_text.apply(lambda x : word_tokenize(x))\n",
    "X_test['clean_text_wordlist'] = X_test.clean_text.apply(lambda x : word_tokenize(x))\n",
    "\n",
    "model = gensim.models.Word2Vec(X_train.clean_text_wordlist\n",
    "                 , min_count=1\n",
    "                 , size=SIZE\n",
    "                 , window=5\n",
    "                 , workers=4)"
   ]
  },
  {
   "cell_type": "code",
   "execution_count": 54,
   "metadata": {},
   "outputs": [
    {
     "data": {
      "text/plain": [
       "[('lulu', 0.9998579025268555),\n",
       " ('like', 0.9998578429222107),\n",
       " ('loos', 0.9998472332954407),\n",
       " ('seem', 0.9998403191566467),\n",
       " ('pull', 0.9998385310173035)]"
      ]
     },
     "execution_count": 54,
     "metadata": {},
     "output_type": "execute_result"
    }
   ],
   "source": [
    "model.most_similar('bad', topn=5)"
   ]
  },
  {
   "cell_type": "code",
   "execution_count": 55,
   "metadata": {},
   "outputs": [],
   "source": [
    "def compute_avg_w2v_vector(w2v_dict, review):\n",
    "    list_of_word_vectors = [w2v_dict[w] for w in review if w in w2v_dict.vocab.keys()]\n",
    "    \n",
    "    if len(list_of_word_vectors) == 0:\n",
    "        result = [0.0]*SIZE\n",
    "    else:\n",
    "        result = np.sum(list_of_word_vectors, axis=0) / len(list_of_word_vectors)\n",
    "        \n",
    "    return result"
   ]
  },
  {
   "cell_type": "code",
   "execution_count": 56,
   "metadata": {},
   "outputs": [],
   "source": [
    "X_train_w2v = X_train['clean_text_wordlist'].apply(lambda x: compute_avg_w2v_vector(model.wv, x))\n",
    "X_test_w2v = X_test['clean_text_wordlist'].apply(lambda x: compute_avg_w2v_vector(model.wv, x))"
   ]
  },
  {
   "cell_type": "code",
   "execution_count": 57,
   "metadata": {},
   "outputs": [],
   "source": [
    "X_train_w2v = pd.DataFrame(X_train_w2v.values.tolist(), index= X_train.index)\n",
    "X_test_w2v = pd.DataFrame(X_test_w2v.values.tolist(), index= X_test.index)\n",
    "\n",
    "# Concatenate with the TextCounts variables\n",
    "X_train_w2v = pd.concat([X_train_w2v, X_train.drop(['clean_text', 'clean_text_wordlist'], axis=1)], axis=1)\n",
    "X_test_w2v = pd.concat([X_test_w2v, X_test.drop(['clean_text', 'clean_text_wordlist'], axis=1)], axis=1)"
   ]
  },
  {
   "cell_type": "code",
   "execution_count": 58,
   "metadata": {},
   "outputs": [
    {
     "name": "stdout",
     "output_type": "stream",
     "text": [
      "Performing grid search...\n",
      "pipeline: ['features', 'clf']\n",
      "parameters:\n",
      "{'clf__C': (0.25, 0.5, 1.0), 'clf__penalty': ('l1', 'l2')}\n",
      "Fitting 5 folds for each of 6 candidates, totalling 30 fits\n"
     ]
    },
    {
     "name": "stderr",
     "output_type": "stream",
     "text": [
      "[Parallel(n_jobs=-1)]: Using backend LokyBackend with 4 concurrent workers.\n"
     ]
    },
    {
     "name": "stdout",
     "output_type": "stream",
     "text": [
      "done in 2.701s\n",
      "\n",
      "Best CV score: 0.643\n",
      "Best parameters set:\n",
      "\tclf__C: 1.0\n",
      "\tclf__penalty: 'l1'\n",
      "Test score with best_estimator_: 0.647\n",
      "\n",
      "\n",
      "Classification Report Test Data\n",
      "              precision    recall  f1-score   support\n",
      "\n",
      "           0       0.66      0.92      0.77       362\n",
      "           1       0.49      0.14      0.22       196\n",
      "\n",
      "   micro avg       0.65      0.65      0.65       558\n",
      "   macro avg       0.58      0.53      0.49       558\n",
      "weighted avg       0.60      0.65      0.58       558\n",
      "\n"
     ]
    },
    {
     "name": "stderr",
     "output_type": "stream",
     "text": [
      "[Parallel(n_jobs=-1)]: Done  30 out of  30 | elapsed:    2.7s finished\n"
     ]
    }
   ],
   "source": [
    "best_logreg_w2v = grid_vect(logreg, parameters_logreg, X_train_w2v, X_test_w2v, is_w2v=True)\n",
    "#joblib.dump(best_logreg_w2v, '../output/best_logreg_w2v.pkl')"
   ]
  },
  {
   "cell_type": "markdown",
   "metadata": {},
   "source": [
    "# Best model - MultinomialNB using features from CountVectorizer():\n",
    "Parameters:\n",
    "* clf__alpha: 0.75\n",
    "* features__pipe__vect__max_df: 0.75\n",
    "* features__pipe__vect__min_df: 2\n",
    "* features__pipe__vect__ngram_range: (1, 1)\n",
    "\n",
    "Error Metrics:\n"
   ]
  },
  {
   "cell_type": "code",
   "execution_count": 59,
   "metadata": {},
   "outputs": [],
   "source": [
    "textcountscols = ['count_capital_words', 'count_excl_quest_marks', 'count_words']\n",
    "    \n",
    "features = FeatureUnion([('textcounts', ColumnExtractor(cols=textcountscols))\n",
    "                         , ('pipe', Pipeline([('cleantext', ColumnExtractor(cols='clean_text'))\n",
    "                                              , ('vect', CountVectorizer(max_df=0.75, min_df=2, ngram_range=(1,2)))]))]\n",
    "                       , n_jobs=-1)\n",
    "\n",
    "pipeline = Pipeline([\n",
    "    ('features', features)\n",
    "    , ('clf', MultinomialNB(0.75))\n",
    "])\n",
    "\n",
    "best_model = pipeline.fit(df_model.drop('response', axis=1), df_model.response)"
   ]
  },
  {
   "cell_type": "markdown",
   "metadata": {},
   "source": [
    "# New Reviews with a Response"
   ]
  },
  {
   "cell_type": "code",
   "execution_count": 60,
   "metadata": {},
   "outputs": [
    {
     "data": {
      "text/plain": [
       "[1, 1, 1, 1]"
      ]
     },
     "execution_count": 60,
     "metadata": {},
     "output_type": "execute_result"
    }
   ],
   "source": [
    "new_review_response = pd.Series(['I am a disappointed with this shirt compared to my past Metal Vent Tech shirts. \\\n",
    "                                  The fabric is thin and the cut of the shirt does not feel like the Lululemon I know. \\\n",
    "                                  The shirt still wicks sweat well but does not live up to my past experiences.',\n",
    "                                  'First time the fabric will show damages after wearing the shirt for the first time. \\\n",
    "                                  I really like the shirt and the color... Not sure about the quality, as this is the first time I face such issue.',\n",
    "                                  \"Bummed, I bought this shirt in Maroon/Blackish color about a month ago and it's already in rough shape \\\n",
    "                                  for the price that I paid for it. It already has a small hole and it looks like the metal fibers in the shirt are pulling out.\",\n",
    "                                 'This is a review of specifically the Black/Cloud Blue color of the Metal Vent Tech shirts. \\\n",
    "                                 I own several MVT’s in other colors and they’re great shirts but the fabric of this one is different. \\\n",
    "                                 Got a pick in the front in the first hour of wearing the shirt. Have NEVER had this happen before.'\n",
    "                                 ])\n",
    "df_counts_pos = tc.transform(new_review_response)\n",
    "df_clean_pos = ct.transform(new_review_response)\n",
    "df_model_pos = df_counts_pos\n",
    "df_model_pos['clean_text'] = df_clean_pos\n",
    "\n",
    "best_model.predict(df_model_pos).tolist()"
   ]
  },
  {
   "cell_type": "markdown",
   "metadata": {},
   "source": [
    "# New Reviews without a Response"
   ]
  },
  {
   "cell_type": "code",
   "execution_count": 61,
   "metadata": {},
   "outputs": [
    {
     "data": {
      "text/plain": [
       "[0, 0, 0, 0]"
      ]
     },
     "execution_count": 61,
     "metadata": {},
     "output_type": "execute_result"
    }
   ],
   "source": [
    "new_review_noResponse = pd.Series([\"Love the feel and material of all the Metal vent tech. Sometimes the fit isn't perfect for every body style.\\\n",
    "                                    Can be a little wide in the mid-section for an athletic fit if you size up for your shoulder's/arms. \\\n",
    "                                    Otherwise the wear and material and second to none. These shirts last forever if you treat them as instructed by Lululemon.\",\n",
    "                                  \"Love the newer spring colors but the sizing on these shirts are so inconsistent.\\\n",
    "                                  For me, the chest and forearm area are way too tight. I need a little room to breathe! \\\n",
    "                                  If those issues were resolved this would be perfect.\",\n",
    "                                  \"Lulu just isn't the company that it used to be. When ordering this shirt I thought it would be a little lighter than it appears online. \\\n",
    "                                  All of the color options are poor and the fit, fabrics and and stitching have all been cheapened over the years.\",\n",
    "                                  \"I had this shirt for a year. the fabric gets thinner and thinner eventually leading to runs and holes. \\\n",
    "                                  I had this shirt custom screen printed for a school athletic team with my initials and team name on it. \\\n",
    "                                  we had won state races and championships showing up in this shirt. \\\n",
    "                                  after sending in pictures of the holes in the shirt, lulu stated I had to send it for them to actually do anything about it, \\\n",
    "                                  but the shirt has too much sentimental value. ill just throw in the back of my closet and stay away from these shirts, you should too\"])\n",
    "\n",
    "df_counts_neg = tc.transform(new_review_noResponse)\n",
    "df_clean_neg = ct.transform(new_review_noResponse)\n",
    "df_model_neg = df_counts_neg\n",
    "df_model_neg['clean_text'] = df_clean_neg\n",
    "\n",
    "best_model.predict(df_model_neg).tolist()"
   ]
  },
  {
   "cell_type": "markdown",
   "metadata": {},
   "source": [
    "# Next steps:\n",
    "- Scrape new reviews and predict responses (or not)!\n",
    "- Use other features, e.g. user rating, price, product (do certain products have a higher priority?)"
   ]
  },
  {
   "cell_type": "code",
   "execution_count": null,
   "metadata": {},
   "outputs": [],
   "source": []
  }
 ],
 "metadata": {
  "kernelspec": {
   "display_name": "Python 3",
   "language": "python",
   "name": "python3"
  },
  "language_info": {
   "codemirror_mode": {
    "name": "ipython",
    "version": 3
   },
   "file_extension": ".py",
   "mimetype": "text/x-python",
   "name": "python",
   "nbconvert_exporter": "python",
   "pygments_lexer": "ipython3",
   "version": "3.6.8"
  },
  "widgets": {
   "application/vnd.jupyter.widget-state+json": {
    "state": {},
    "version_major": 2,
    "version_minor": 0
   }
  }
 },
 "nbformat": 4,
 "nbformat_minor": 2
}
